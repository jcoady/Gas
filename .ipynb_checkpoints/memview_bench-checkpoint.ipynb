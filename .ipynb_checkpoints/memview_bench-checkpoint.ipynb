{
 "cells": [
  {
   "cell_type": "markdown",
   "metadata": {},
   "source": [
    "# Typed Memoryview Benchmark"
   ]
  },
  {
   "cell_type": "markdown",
   "metadata": {},
   "source": [
    "This contains the implementations of the benchmarks described at http://jakevdp.github.com/blog/2012/08/08/memoryview-benchmarks.\n",
    "\n",
    "Here we'll use ipython's cython magic to compile and run the benchmarks."
   ]
  },
  {
   "cell_type": "code",
   "execution_count": 4,
   "metadata": {},
   "outputs": [],
   "source": [
    "%load_ext cythonmagic\n",
    "\n",
    "# Define our test array\n",
    "import numpy as np\n",
    "X = np.random.random((500, 3))"
   ]
  },
  {
   "cell_type": "markdown",
   "metadata": {},
   "source": [
    "## Python-only Version"
   ]
  },
  {
   "cell_type": "code",
   "execution_count": 2,
   "metadata": {},
   "outputs": [],
   "source": [
    "import numpy as np\n",
    "\n",
    "def euclidean_distance(x1, x2):\n",
    "    x1 = np.asarray(x1)\n",
    "    x2 = np.asarray(x2)\n",
    "    return np.sqrt(np.sum((x1 - x2) ** 2))\n",
    "\n",
    "def pairwise_v1(X, metric=euclidean_distance):\n",
    "    X = np.asarray(X)\n",
    "    \n",
    "    n_samples, n_dim = X.shape\n",
    "\n",
    "    D = np.empty((n_samples, n_samples))\n",
    "\n",
    "    for i in range(n_samples):\n",
    "        for j in range(n_samples):\n",
    "            D[i, j] = metric(X[i], X[j])\n",
    "\n",
    "    return D"
   ]
  },
  {
   "cell_type": "code",
   "execution_count": 5,
   "metadata": {},
   "outputs": [
    {
     "name": "stdout",
     "output_type": "stream",
     "text": [
      "9.04 s ± 674 ms per loop (mean ± std. dev. of 7 runs, 1 loop each)\n"
     ]
    }
   ],
   "source": [
    "%timeit pairwise_v1(X)"
   ]
  },
  {
   "cell_type": "markdown",
   "metadata": {},
   "source": [
    "## Cython + numpy"
   ]
  },
  {
   "cell_type": "code",
   "execution_count": 4,
   "metadata": {},
   "outputs": [],
   "source": [
    "%%cython\n",
    "\n",
    "import numpy as np\n",
    "\n",
    "cimport numpy as np\n",
    "from libc.math cimport sqrt\n",
    "cimport cython\n",
    "\n",
    "# define a function pointer to a metric\n",
    "ctypedef double (*metric_ptr)(np.ndarray, np.ndarray)\n",
    "\n",
    "@cython.boundscheck(False)\n",
    "@cython.wraparound(False)\n",
    "cdef double euclidean_distance(np.ndarray[double, ndim=1, mode='c'] x1,\n",
    "                               np.ndarray[double, ndim=1, mode='c'] x2):\n",
    "    cdef double tmp, d\n",
    "    cdef np.intp_t i, N\n",
    "\n",
    "    d = 0\n",
    "    N = x1.shape[0]\n",
    "    # assume x2 has the same shape as x1.  This could be dangerous!\n",
    "\n",
    "    for i in range(N):\n",
    "        tmp = x1[i] - x2[i]\n",
    "        d += tmp * tmp\n",
    "\n",
    "    return sqrt(d)\n",
    "\n",
    "\n",
    "@cython.boundscheck(False)\n",
    "@cython.wraparound(False)\n",
    "def pairwise_v2(np.ndarray[double, ndim=2, mode='c'] X not None,\n",
    "                metric = 'euclidean'):\n",
    "    cdef metric_ptr dist_func\n",
    "    if metric == 'euclidean':\n",
    "        dist_func = &euclidean_distance\n",
    "    else:\n",
    "        raise ValueError(\"unrecognized metric\")\n",
    "\n",
    "    cdef np.intp_t i, j, n_samples\n",
    "    n_samples = X.shape[0]\n",
    "\n",
    "    cdef np.ndarray[double, ndim=2, mode='c'] D = np.empty((n_samples,\n",
    "                                                            n_samples))\n",
    "    for i in range(n_samples):\n",
    "        for j in range(n_samples):\n",
    "            D[i, j] = dist_func(X[i], X[j])\n",
    "\n",
    "    return D"
   ]
  },
  {
   "cell_type": "code",
   "execution_count": 5,
   "metadata": {},
   "outputs": [
    {
     "name": "stdout",
     "output_type": "stream",
     "text": [
      "1 loops, best of 3: 668 ms per loop\n"
     ]
    }
   ],
   "source": [
    "%timeit pairwise_v2(X)"
   ]
  },
  {
   "cell_type": "markdown",
   "metadata": {},
   "source": [
    "## Cython + memviews (with slicing)"
   ]
  },
  {
   "cell_type": "code",
   "execution_count": 6,
   "metadata": {},
   "outputs": [],
   "source": [
    "%%cython\n",
    "import numpy as np\n",
    "\n",
    "cimport numpy as np\n",
    "from libc.math cimport sqrt\n",
    "cimport cython\n",
    "\n",
    "# define a function pointer to a metric\n",
    "ctypedef double (*metric_ptr)(double[::1], double[::1])\n",
    "\n",
    "@cython.boundscheck(False)\n",
    "@cython.wraparound(False)\n",
    "cdef double euclidean_distance(double[::1] x1,\n",
    "                               double[::1] x2):\n",
    "    cdef double tmp, d\n",
    "    cdef np.intp_t i, N\n",
    "\n",
    "    d = 0\n",
    "    N = x1.shape[0]\n",
    "    # assume x2 has the same shape as x1.  This could be dangerous!\n",
    "\n",
    "    for i in range(N):\n",
    "        tmp = x1[i] - x2[i]\n",
    "        d += tmp * tmp\n",
    "\n",
    "    return sqrt(d)\n",
    "\n",
    "\n",
    "@cython.boundscheck(False)\n",
    "@cython.wraparound(False)\n",
    "def pairwise_v3(double[:, ::1] X not None,\n",
    "                metric = 'euclidean'):\n",
    "    cdef metric_ptr dist_func\n",
    "    if metric == 'euclidean':\n",
    "        dist_func = &euclidean_distance\n",
    "    else:\n",
    "        raise ValueError(\"unrecognized metric\")\n",
    "\n",
    "    cdef np.intp_t i, j, n_samples\n",
    "    n_samples = X.shape[0]\n",
    "\n",
    "    cdef double[:, ::1] D = np.empty((n_samples, n_samples))\n",
    "\n",
    "    for i in range(n_samples):\n",
    "        for j in range(n_samples):\n",
    "            D[i, j] = dist_func(X[i], X[j])\n",
    "\n",
    "    return D"
   ]
  },
  {
   "cell_type": "code",
   "execution_count": 7,
   "metadata": {},
   "outputs": [
    {
     "name": "stdout",
     "output_type": "stream",
     "text": [
      "10 loops, best of 3: 22 ms per loop\n"
     ]
    }
   ],
   "source": [
    "%timeit pairwise_v3(X)"
   ]
  },
  {
   "cell_type": "markdown",
   "metadata": {},
   "source": [
    "## Cython + raw pointers"
   ]
  },
  {
   "cell_type": "code",
   "execution_count": 8,
   "metadata": {},
   "outputs": [],
   "source": [
    "%%cython\n",
    "\n",
    "import numpy as np\n",
    "\n",
    "cimport numpy as np\n",
    "from libc.math cimport sqrt\n",
    "cimport cython\n",
    "\n",
    "# define a function pointer to a metric\n",
    "ctypedef double (*metric_ptr)(double*, double*, int)\n",
    "\n",
    "@cython.boundscheck(False)\n",
    "@cython.wraparound(False)\n",
    "cdef double euclidean_distance(double* x1,\n",
    "                               double* x2,\n",
    "                               int N):\n",
    "    cdef double tmp, d\n",
    "    cdef np.intp_t i\n",
    "\n",
    "    d = 0\n",
    "\n",
    "    for i in range(N):\n",
    "        tmp = x1[i] - x2[i]\n",
    "        d += tmp * tmp\n",
    "\n",
    "    return sqrt(d)\n",
    "\n",
    "\n",
    "@cython.boundscheck(False)\n",
    "@cython.wraparound(False)\n",
    "def pairwise_v4(double[:, ::1] X not None,\n",
    "                metric = 'euclidean'):\n",
    "    cdef metric_ptr dist_func\n",
    "    if metric == 'euclidean':\n",
    "        dist_func = &euclidean_distance\n",
    "    else:\n",
    "        raise ValueError(\"unrecognized metric\")\n",
    "\n",
    "    cdef np.intp_t i, j, n_samples, n_dim\n",
    "    n_samples = X.shape[0]\n",
    "    n_dim = X.shape[1]\n",
    "\n",
    "    cdef double[:, ::1] D = np.empty((n_samples, n_samples))\n",
    "\n",
    "    cdef double* Dptr = &D[0, 0]\n",
    "    cdef double* Xptr = &X[0, 0]\n",
    "\n",
    "    for i in range(n_samples):\n",
    "        for j in range(n_samples):\n",
    "            Dptr[i * n_samples + j] = dist_func(Xptr + i * n_dim,\n",
    "                                                Xptr + j * n_dim,\n",
    "                                                n_dim)\n",
    "    return D"
   ]
  },
  {
   "cell_type": "code",
   "execution_count": 9,
   "metadata": {},
   "outputs": [
    {
     "name": "stdout",
     "output_type": "stream",
     "text": [
      "100 loops, best of 3: 2.44 ms per loop\n"
     ]
    }
   ],
   "source": [
    "%timeit pairwise_v4(X)"
   ]
  },
  {
   "cell_type": "markdown",
   "metadata": {},
   "source": [
    "## Cython + memviews (no slicing)"
   ]
  },
  {
   "cell_type": "code",
   "execution_count": 10,
   "metadata": {},
   "outputs": [
    {
     "name": "stdout",
     "output_type": "stream",
     "text": [
      "missing cimport: /home/vanderplas/.config/ipython/cython/_cython_magic_1c925a99ed742e8928654e6eeb078ef5.pyx\n",
      "cython\n"
     ]
    }
   ],
   "source": [
    "%%cython\n",
    "\n",
    "import numpy as np\n",
    "\n",
    "cimport numpy as np\n",
    "from libc.math cimport sqrt\n",
    "cimport cython\n",
    "\n",
    "# define a function pointer to a metric\n",
    "ctypedef double (*metric_ptr)(double[:, ::1], np.intp_t, np.intp_t)\n",
    "\n",
    "@cython.boundscheck(False)\n",
    "@cython.wraparound(False)\n",
    "cdef double euclidean_distance(double[:, ::1] X,\n",
    "                               np.intp_t i1, np.intp_t i2):\n",
    "    cdef double tmp, d\n",
    "    cdef np.intp_t j\n",
    "\n",
    "    d = 0\n",
    "\n",
    "    for j in range(X.shape[1]):\n",
    "        tmp = X[i1, j] - X[i2, j]\n",
    "        d += tmp * tmp\n",
    "\n",
    "    return sqrt(d)\n",
    "\n",
    "\n",
    "@cython.boundscheck(False)\n",
    "@cython.wraparound(False)\n",
    "def pairwise_v5(double[:, ::1] X not None,\n",
    "                metric = 'euclidean'):\n",
    "    cdef metric_ptr dist_func\n",
    "    if metric == 'euclidean':\n",
    "        dist_func = &euclidean_distance\n",
    "    else:\n",
    "        raise ValueError(\"unrecognized metric\")\n",
    "\n",
    "    cdef np.intp_t i, j, n_samples, n_dim\n",
    "    n_samples = X.shape[0]\n",
    "    n_dim = X.shape[1]\n",
    "\n",
    "    cdef double[:, ::1] D = np.empty((n_samples, n_samples))\n",
    "\n",
    "    for i in range(n_samples):\n",
    "        for j in range(n_samples):\n",
    "            D[i, j] = dist_func(X, i, j)\n",
    "\n",
    "    return D"
   ]
  },
  {
   "cell_type": "code",
   "execution_count": 11,
   "metadata": {},
   "outputs": [
    {
     "name": "stdout",
     "output_type": "stream",
     "text": [
      "100 loops, best of 3: 2.48 ms per loop\n"
     ]
    }
   ],
   "source": [
    "%timeit pairwise_v5(X)"
   ]
  },
  {
   "cell_type": "markdown",
   "metadata": {},
   "source": [
    "## Other Similar Routines"
   ]
  },
  {
   "cell_type": "markdown",
   "metadata": {},
   "source": [
    "Here we'll compare the benchmark to two similar routines from `scipy` and `scikit-learn`"
   ]
  },
  {
   "cell_type": "code",
   "execution_count": 12,
   "metadata": {},
   "outputs": [
    {
     "name": "stdout",
     "output_type": "stream",
     "text": [
      "100 loops, best of 3: 3.27 ms per loop\n"
     ]
    }
   ],
   "source": [
    "from scipy.spatial.distance import cdist\n",
    "%timeit cdist(X, X)"
   ]
  },
  {
   "cell_type": "code",
   "execution_count": 13,
   "metadata": {},
   "outputs": [
    {
     "name": "stdout",
     "output_type": "stream",
     "text": [
      "100 loops, best of 3: 13 ms per loop\n"
     ]
    }
   ],
   "source": [
    "from sklearn.metrics import pairwise_distances\n",
    "%timeit pairwise_distances(X, X)"
   ]
  }
 ],
 "metadata": {
  "kernelspec": {
   "display_name": "Python 3",
   "language": "python",
   "name": "python3"
  },
  "language_info": {
   "codemirror_mode": {
    "name": "ipython",
    "version": 3
   },
   "file_extension": ".py",
   "mimetype": "text/x-python",
   "name": "python",
   "nbconvert_exporter": "python",
   "pygments_lexer": "ipython3",
   "version": "3.6.2"
  }
 },
 "nbformat": 4,
 "nbformat_minor": 1
}
