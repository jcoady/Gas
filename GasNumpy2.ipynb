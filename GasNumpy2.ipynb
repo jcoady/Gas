{
 "cells": [
  {
   "cell_type": "code",
   "execution_count": 1,
   "metadata": {},
   "outputs": [
    {
     "data": {
      "application/javascript": [
       "require.undef(\"nbextensions/vpython_libraries/glow.min\");"
      ],
      "text/plain": [
       "<IPython.core.display.Javascript object>"
      ]
     },
     "metadata": {},
     "output_type": "display_data"
    },
    {
     "data": {
      "application/javascript": [
       "require.undef(\"nbextensions/vpython_libraries/glowcomm\");"
      ],
      "text/plain": [
       "<IPython.core.display.Javascript object>"
      ]
     },
     "metadata": {},
     "output_type": "display_data"
    },
    {
     "data": {
      "application/javascript": [
       "require.undef(\"nbextensions/vpython_libraries/jquery-ui.custom.min\");"
      ],
      "text/plain": [
       "<IPython.core.display.Javascript object>"
      ]
     },
     "metadata": {},
     "output_type": "display_data"
    },
    {
     "data": {
      "application/javascript": [
       "require([\"nbextensions/vpython_libraries/glow.min\"], function(){console.log(\"GLOW LOADED\");})"
      ],
      "text/plain": [
       "<IPython.core.display.Javascript object>"
      ]
     },
     "metadata": {},
     "output_type": "display_data"
    },
    {
     "data": {
      "application/javascript": [
       "require([\"nbextensions/vpython_libraries/glowcomm\"], function(){console.log(\"GLOWCOMM LOADED\");})"
      ],
      "text/plain": [
       "<IPython.core.display.Javascript object>"
      ]
     },
     "metadata": {},
     "output_type": "display_data"
    },
    {
     "data": {
      "application/javascript": [
       "require([\"nbextensions/vpython_libraries/jquery-ui.custom.min\"], function(){console.log(\"JQUERY LOADED\");})"
      ],
      "text/plain": [
       "<IPython.core.display.Javascript object>"
      ]
     },
     "metadata": {},
     "output_type": "display_data"
    },
    {
     "data": {
      "text/html": [
       "<div id=\"glowscript\" class=\"glowscript\"></div>"
      ],
      "text/plain": [
       "<IPython.core.display.HTML object>"
      ]
     },
     "metadata": {},
     "output_type": "display_data"
    },
    {
     "data": {
      "application/javascript": [
       "window.__context = { glowscript_container: $(\"#glowscript\").removeAttr(\"id\")}"
      ],
      "text/plain": [
       "<IPython.core.display.Javascript object>"
      ]
     },
     "metadata": {},
     "output_type": "display_data"
    },
    {
     "data": {
      "text/html": [
       "<div id=\"glowscript\" class=\"glowscript\"></div>"
      ],
      "text/plain": [
       "<IPython.core.display.HTML object>"
      ]
     },
     "metadata": {},
     "output_type": "display_data"
    },
    {
     "data": {
      "application/javascript": [
       "window.__context = { glowscript_container: $(\"#glowscript\").removeAttr(\"id\")}"
      ],
      "text/plain": [
       "<IPython.core.display.Javascript object>"
      ]
     },
     "metadata": {},
     "output_type": "display_data"
    },
    {
     "name": "stdout",
     "output_type": "stream",
     "text": [
      "10.985853410061925 ms per loop\n",
      " "
     ]
    }
   ],
   "source": [
    "%%prun\n",
    "from vpython import *\n",
    "from random import random\n",
    "import numpy as np\n",
    "\n",
    "# A model of an ideal gas with hard-sphere collisions\n",
    "# Program uses numpy arrays for high speed computations\n",
    "\n",
    "# Bruce Sherwood\n",
    "\n",
    "win=500\n",
    "\n",
    "Natoms = 100  # change this to have more or fewer atoms\n",
    "\n",
    "# Typical values\n",
    "L = 1 # container is a cube L on a side\n",
    "gray = color.gray(0.7) # color of edges of container\n",
    "mass = 4E-3/6E23 # helium mass\n",
    "Ratom = 0.03 # wildly exaggerated size of helium atom\n",
    "k = 1.4E-23 # Boltzmann constant\n",
    "T = 300 # around room temperature\n",
    "dt = 1E-5\n",
    "\n",
    "scene = canvas(title=\"Gas\", width=win, height=win, center=vec(L/2,L/2,L/2))\n",
    "scene.range = L\n",
    "\n",
    "deltav = 100 # binning for v histogram\n",
    "vdist = graph(xmax=3000, ymax=Natoms*deltav/1000, width=win, height=0.4*win, xtitle='v', ytitle='dN')\n",
    "theory = gcurve(color=color.cyan)\n",
    "\n",
    "xaxis = curve(pos=[vec(0,0,0), vec(L,0,0)], color=gray)\n",
    "yaxis = curve(pos=[vec(0,0,0), vec(0,L,0)], color=gray)\n",
    "zaxis = curve(pos=[vec(0,0,0), vec(0,0,L)], color=gray)\n",
    "xaxis2 = curve(pos=[vec(L,L,L), vec(0,L,L), vec(0,0,L), vec(L,0,L)], color=gray)\n",
    "yaxis2 = curve(pos=[vec(L,L,L), vec(L,0,L), vec(L,0,0), vec(L,L,0)], color=gray)\n",
    "zaxis2 = curve(pos=[vec(L,L,L), vec(L,L,0), vec(0,L,0), vec(0,L,L)], color=gray)\n",
    "\n",
    "dv = 10\n",
    "for v in arange(0,3001+dv,dv): # theoretical prediction\n",
    "    theory.plot(v,\n",
    "        (deltav/dv)*Natoms*4*pi*((mass/(2.*pi*k*T))**1.5)\n",
    "                     *exp((-0.5*mass*v**2)/(k*T))*v**2*dv)\n",
    "\n",
    "accum = []\n",
    "for i in range(int(3000/deltav)): accum.append([deltav*(i+.5),0])\n",
    "vdist = gvbars(color=color.red, delta=deltav )\n",
    "\n",
    "nhisto = 0 # number of histogram snapshots to average\n",
    "\n",
    "def barx(v):\n",
    "    return int(v/deltav) # index into bars array\n",
    "\n",
    "def interchange(v1, v2):  # remove from v1 bar, add to v2 bar\n",
    "    barx1 = barx(v1)\n",
    "    barx2 = barx(v2)\n",
    "    if barx1 == barx2: return\n",
    "    if barx1 > len(histo) or barx2 > len(histo):\n",
    "        print(v1, v2, barx2, barx2)\n",
    "    histo[barx1] -= 1\n",
    "    histo[barx2] += 1\n",
    "    \n",
    "Atoms = []\n",
    "poslist = []\n",
    "plist = []\n",
    "mlist = []\n",
    "rlist = []\n",
    "pavg = sqrt(2*mass*1.5*k*T) # average kinetic energy p**2/(2mass) = (3/2)kT\n",
    "\n",
    "for i in range(Natoms):\n",
    "    Lmin = 1.1*Ratom\n",
    "    Lmax = L-Lmin\n",
    "    x = Lmin+(Lmax-Lmin)*random()\n",
    "    y = Lmin+(Lmax-Lmin)*random()\n",
    "    z = Lmin+(Lmax-Lmin)*random()\n",
    "    if i == 0:\n",
    "        Atoms.append(sphere(pos=vec(x,y,z), radius=Ratom, color=color.yellow,\n",
    "                    make_trail=True, retain=100))\n",
    "    else:\n",
    "        Atoms.append(sphere(pos=vec(x,y,z), radius=Ratom, color=color.cyan))\n",
    "    theta = pi*random()\n",
    "    phi = 2*pi*random()\n",
    "    px = pavg*sin(theta)*cos(phi)\n",
    "    py = pavg*sin(theta)*sin(phi)\n",
    "    pz = pavg*cos(theta)\n",
    "    poslist.append((x,y,z))\n",
    "    plist.append((px,py,pz))\n",
    "    mlist.append(mass)\n",
    "\n",
    "pos = np.array(poslist)\n",
    "p = np.array(plist)\n",
    "\n",
    "nhisto = int(4500/deltav)\n",
    "histo = []\n",
    "for i in range(nhisto): histo.append(0)\n",
    "histo[barx(pavg/mass)] = Natoms\n",
    "count = 0\n",
    "timer = clock()\n",
    "\n",
    "def checkCollisions():\n",
    "    global pos\n",
    "    r = pos-pos[:,np.newaxis] # all pairs of atom-to-atom vectors\n",
    "    rmag = np.sqrt(np.sum(np.square(r),-1)) # atom-to-atom scalar distances\n",
    "    hit = np.less_equal(rmag,2*Ratom)-np.identity(Natoms)\n",
    "    return np.sort(np.nonzero(hit.flat)[0]).tolist() # i,j encoded as i*Natoms+j\n",
    "\n",
    "while True:\n",
    "    rate(1000000)\n",
    "    # Accumulate and average histogram snapshots\n",
    "    for i in range(len(accum)): accum[i][1] = (nhisto*accum[i][1] + histo[i])/(nhisto+1)\n",
    "##    if nhisto % 10 == 0:\n",
    "##        vdist.data = accum\n",
    "    nhisto += 1\n",
    "\n",
    "    # Update all positions\n",
    "    pos = pos+(p/mass)*dt\n",
    "\n",
    "    hitlist = checkCollisions()\n",
    "    \n",
    "    # If any collisions took place:\n",
    "    for ij in hitlist:\n",
    "        i, j = divmod(ij,Natoms) # decode atom pair\n",
    "        hitlist.remove(j*Natoms+i) # remove symmetric j,i pair from list\n",
    "        ptot = p[i]+p[j]\n",
    "        posi = pos[i]\n",
    "        posj = pos[j]\n",
    "        vi = p[i]/mass\n",
    "        vj = p[j]/mass\n",
    "        vrel = vj-vi\n",
    "        a = sum(vrel*vrel)\n",
    "        if a == 0: continue # exactly same velocities\n",
    "        rrel = posi-posj\n",
    "        b = 2*dot(rrel,vrel)\n",
    "        c = sum(rrel*rrel)-4*Ratom*Ratom\n",
    "        d = b**2-4*a*c\n",
    "        if d < 0: continue # something wrong; ignore this rare case\n",
    "        deltat = (-b+sqrt(d))/(2*a) # t-deltat is when they made contact\n",
    "        posi = posi-vi*deltat # back up to contact configuration\n",
    "        posj = posj-vj*deltat\n",
    "        mtot = 2*mass\n",
    "        pcmi = p[i]-ptot*mass/mtot # transform momenta to cm frame\n",
    "        pcmj = p[j]-ptot*mass/mtot\n",
    "        rrel = rrel/(sum(rrel*rrel)**0.5)\n",
    "        pcmi = pcmi-2*pcmi.dot(rrel)*rrel # bounce in cm frame\n",
    "        pcmj = pcmj-2*pcmj.dot(rrel)*rrel\n",
    "        p[i] = pcmi+ptot*mass/mtot # transform momenta back to lab frame\n",
    "        p[j] = pcmj+ptot*mass/mtot\n",
    "        pos[i] = posi+(p[i]/mass)*deltat # move forward deltat in time\n",
    "        pos[j] = posj+(p[j]/mass)*deltat\n",
    "        interchange(sum(vi*vi)**0.5, sum(p[i]*p[i])**0.5/mass)\n",
    "        interchange(sum(vj*vj)**0.5, sum(p[j]*p[j])**0.5/mass)\n",
    " \n",
    "    # Bounce off walls\n",
    "    outside = np.less_equal(pos,Ratom) # walls closest to origin\n",
    "    p1 = p*outside\n",
    "    p = p-p1+abs(p1) # force p component inward\n",
    "    outside = np.greater_equal(pos,L-Ratom) # walls farther from origin\n",
    "    p1 = p*outside\n",
    "    p = p-p1-abs(p1) # force p component inward\n",
    "\n",
    "    # Update positions of display objects\n",
    "    for i in range(Natoms):\n",
    "        tpos = pos[i]\n",
    "        Atoms[i].pos = vec(tpos[0], tpos[1], tpos[2])\n",
    "    \n",
    "    count += 1\n",
    "    if count >= 1000: break\n",
    "timer = clock()-timer\n",
    "print(1000*timer/count, 'ms per loop')\n",
    "vdist.data = accum\n",
    "\n"
   ]
  },
  {
   "cell_type": "code",
   "execution_count": null,
   "metadata": {},
   "outputs": [],
   "source": []
  }
 ],
 "metadata": {
  "kernelspec": {
   "display_name": "VPython",
   "language": "python",
   "name": "vpython"
  },
  "language_info": {
   "codemirror_mode": {
    "name": "ipython",
    "version": 3
   },
   "file_extension": ".py",
   "mimetype": "text/x-python",
   "name": "python",
   "nbconvert_exporter": "python",
   "pygments_lexer": "ipython3",
   "version": "3.6.2"
  }
 },
 "nbformat": 4,
 "nbformat_minor": 2
}
